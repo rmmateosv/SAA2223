{
 "cells": [
  {
   "cell_type": "markdown",
   "id": "5faff85f",
   "metadata": {},
   "source": [
    "# Modelo de Clasificación Multiclase\n",
    "# Dataset: Load Digits\n",
    "## Fuente: sklearn https://scikit-learn.org/stable/modules/generated/sklearn.datasets.load_digits.html\n",
    "Índice<a name=\"indice\"></a>\n",
    "* [1 Prepocesado de datos](#1)\n",
    "    * [1.1 Importación de librerías](#1_1)\n",
    "    * [1.2 Carga del Dataset](#1_2)\n",
    "* [2 Análisis Exploratorio de datos](#2)\n",
    "    * [2.1 Estadísitcas descriptivas](#2_1)\n",
    "* [3 Diseño de características](#3)\n",
    "    * [3.1 Tratamiento de datos nulos](#3_1)\n",
    "    * [3.2 Transformación de características](#3_2)\n",
    "    * [3.3 Selección de características relevante](#3_3)\n",
    "    * [3.4 Tratamiento de outliers](#3_4)\n",
    "    * [3.5 Tratamiento de correlación](#3_5)\n",
    "    * [3.6 Normalización](#3_6)\n",
    "* [4 Separación de datos](#4) \n",
    "* [5 Regresión Logística](#5) \n",
    "* [6 K Vecinos Próximos](#6) \n",
    "* [7 Árbol de decisión](#7) \n",
    "* [8 Random Forest](#8) \n",
    "* [9 XGBoost](#9) \n",
    "* [10 Máquina Vector Soporte](#10) "
   ]
  },
  {
   "cell_type": "markdown",
   "id": "ef27f8ec",
   "metadata": {},
   "source": [
    "Descripción de la fuente: La fuente contiene imágenes de números escritos a mano. Es un diccionario de datos con los siguientes campos:\n",
    "* _data_: Matriz o dataframe de pandas con las imágenes. Hay 1797 imágenes y cada una de ellas se representa por array plano de 64 valores de 0 a 15    \n",
    "* _target_: Variable objetivo. El nº representado por la imagen. Son números del 0 al 9      \n",
    "* _frame_: Dataframe con las variables idependientes y la variable objetivo          \n",
    "* _feature_names_: Nombre de las variables independientes   \n",
    "* _target_names_: Nombre de las clases que se van a tratar       \n",
    "* _images_: Matriz con las imágenes sin processar, representada en un matriz de 8x8\n",
    "* _DESCR_: Descripción del dataset                 "
   ]
  },
  {
   "cell_type": "markdown",
   "id": "2a375edc",
   "metadata": {},
   "source": [
    "# 1 PREPRECESADO DE DATOS <a name=\"1\"></a>\n",
    "[Índice](#indice)"
   ]
  },
  {
   "cell_type": "markdown",
   "id": "54ee2a12",
   "metadata": {},
   "source": [
    "## 1.1 Importación de librerías <a name=\"1_1\"></a>\n",
    "[Índice](#indice)"
   ]
  },
  {
   "cell_type": "code",
   "execution_count": 102,
   "id": "478fb5a4",
   "metadata": {},
   "outputs": [],
   "source": [
    "import pandas as pd;\n",
    "\n",
    "import seaborn as sns;\n",
    "import matplotlib.pyplot as plt;"
   ]
  },
  {
   "cell_type": "markdown",
   "id": "3f652f48",
   "metadata": {},
   "source": [
    "## 1.2 Carga del dataset <a name=\"1_2\"></a>\n",
    "[Índice](#indice)"
   ]
  },
  {
   "cell_type": "markdown",
   "id": "36c96fc5",
   "metadata": {},
   "source": [
    "# 2 PREPRECESADO DE DATOS <a name=\"2\"></a>\n",
    "[Índice](#indice)"
   ]
  },
  {
   "cell_type": "markdown",
   "id": "4aee77ad",
   "metadata": {},
   "source": [
    "## 2.1 Estadísticas descriptivas <a name=\"2_1\"></a>\n",
    "[Índice](#indice)"
   ]
  },
  {
   "cell_type": "markdown",
   "id": "f39a75f6",
   "metadata": {},
   "source": [
    "# 3 DISEÑO DE CARACTERÍSTICAS <a name=\"3\"></a>\n",
    "[Índice](#indice)"
   ]
  },
  {
   "cell_type": "markdown",
   "id": "3db9f719",
   "metadata": {},
   "source": [
    "## 3.1 Tratamiento de nulos <a name=\"3_1\"></a>\n",
    "[Índice](#indice)"
   ]
  },
  {
   "cell_type": "markdown",
   "id": "59ba2aad",
   "metadata": {},
   "source": [
    "## 3.2 Transformación de características <a name=\"3_2\"></a>\n",
    "[Índice](#indice)"
   ]
  },
  {
   "cell_type": "code",
   "execution_count": 12,
   "id": "dbf573a1",
   "metadata": {},
   "outputs": [],
   "source": [
    "# Transformaciones de tipo"
   ]
  },
  {
   "cell_type": "code",
   "execution_count": 14,
   "id": "3c6ac3e1",
   "metadata": {},
   "outputs": [],
   "source": [
    "# No es necesario hacer label encoding"
   ]
  },
  {
   "cell_type": "code",
   "execution_count": 15,
   "id": "a60cd029",
   "metadata": {},
   "outputs": [],
   "source": [
    "# One hot encoding: Geography y Gender\n"
   ]
  },
  {
   "cell_type": "code",
   "execution_count": 16,
   "id": "b729a1ab",
   "metadata": {},
   "outputs": [],
   "source": [
    "# Seleccionamos las columnas generadas con OHE y las cambiamos a categóricas\n"
   ]
  },
  {
   "cell_type": "markdown",
   "id": "a4013b94",
   "metadata": {},
   "source": [
    "## 3.3 Selección de características relevantes <a name=\"3_3\"></a>\n",
    "[Índice](#indice)"
   ]
  },
  {
   "cell_type": "code",
   "execution_count": 18,
   "id": "a8066aff",
   "metadata": {},
   "outputs": [],
   "source": [
    "# Eliminar irrelevantes"
   ]
  },
  {
   "cell_type": "markdown",
   "id": "ee2f1242",
   "metadata": {},
   "source": [
    "## 3.4 Tratamiento de outliers <a name=\"3_4\"></a>\n",
    "[Índice](#indice)"
   ]
  },
  {
   "cell_type": "markdown",
   "id": "3c4bc3f3",
   "metadata": {},
   "source": [
    "## 3.5 Tratamiento de Correlación <a name=\"3_5\"></a>\n",
    "[Índice](#indice)"
   ]
  },
  {
   "cell_type": "markdown",
   "id": "a109a967",
   "metadata": {},
   "source": [
    "## 3.6 Normalización <a name=\"3_6\"></a>\n",
    "[Índice](#indice)"
   ]
  },
  {
   "cell_type": "markdown",
   "id": "7a3e7ee2",
   "metadata": {},
   "source": [
    "# 4 Separación de datos <a name=\"4\"></a>\n",
    "[Índice](#indice)"
   ]
  },
  {
   "cell_type": "markdown",
   "id": "51a36aa2",
   "metadata": {},
   "source": [
    "# 5 Regresión Logística <a name=\"5\"></a>\n",
    "[Índice](#indice)"
   ]
  },
  {
   "cell_type": "markdown",
   "id": "e483871e",
   "metadata": {},
   "source": [
    "# 6 K Vecinos Próximos <a name=\"6\"></a>\n",
    "[Índice](#indice)"
   ]
  },
  {
   "cell_type": "markdown",
   "id": "70090862",
   "metadata": {},
   "source": [
    "# 7 Árbol de decisión <a name=\"7\"></a>\n",
    "[Índice](#indice)"
   ]
  },
  {
   "cell_type": "markdown",
   "id": "19d04356",
   "metadata": {},
   "source": [
    "# 8 Random Forest <a name=\"8\"></a>\n",
    "[Índice](#indice)"
   ]
  },
  {
   "cell_type": "markdown",
   "id": "a8c5a177",
   "metadata": {},
   "source": [
    "# 9 XGBoost <a name=\"9\"></a>\n",
    "[Índice](#indice)"
   ]
  },
  {
   "cell_type": "markdown",
   "id": "9d3598d2",
   "metadata": {},
   "source": [
    "# 10 Máquina Vector Soporte <a name=\"10\"></a>\n",
    "[Índice](#indice)"
   ]
  }
 ],
 "metadata": {
  "kernelspec": {
   "display_name": "Python 3 (ipykernel)",
   "language": "python",
   "name": "python3"
  },
  "language_info": {
   "codemirror_mode": {
    "name": "ipython",
    "version": 3
   },
   "file_extension": ".py",
   "mimetype": "text/x-python",
   "name": "python",
   "nbconvert_exporter": "python",
   "pygments_lexer": "ipython3",
   "version": "3.9.12"
  }
 },
 "nbformat": 4,
 "nbformat_minor": 5
}
