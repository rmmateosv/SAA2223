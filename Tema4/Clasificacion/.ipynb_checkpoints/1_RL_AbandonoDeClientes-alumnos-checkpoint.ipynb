{
 "cells": [
  {
   "cell_type": "markdown",
   "id": "5faff85f",
   "metadata": {},
   "source": [
    "# Modelo de Clasificación Binaria\n",
    "# Dataset: Churn Modelling\n",
    "## Fuente: https://www.kaggle.com/datasets/shrutimechlearn/churn-modelling\n",
    "Índice<a name=\"indice\"></a>\n",
    "* [1 Prepocesado de datos](#1)\n",
    "    * [1.1 Importación de librerías](#1_1)\n",
    "    * [1.2 Carga del Dataset](#1_2)\n",
    "* [2 Análisis Exploratorio de datos](#2)\n",
    "    * [2.1 Estadísitcas descriptivas](#2_1)\n",
    "* [3 Diseño de características](#3)\n",
    "    * [3.1 Tratamiento de datos nulos](#3_1)\n",
    "    * [3.2 Transformación de características](#3_2)\n",
    "    * [3.3 Selección de características relevante](#3_3)\n",
    "    * [3.4 Tratamiento de outliers](#3_4)\n",
    "    * [3.5 Tratamiento de correlación](#3_5)\n",
    "    * [3.6 Normalización](#3_6)\n",
    "* [4 Regresión logística todas las variables con el DF sin tratar](#5) \n",
    "* [5 Regresión logística todas las variables con el DF sin outliers, sin correlaciones y normalizado](#6) \n",
    "* [6 Conclusión final](#7) "
   ]
  },
  {
   "cell_type": "markdown",
   "id": "ef27f8ec",
   "metadata": {},
   "source": [
    "Descripción del dataset: El dataset contiene información de clientes de un banco y la variable objetivo es una variable binaria que refleja si el cliente cierra la cuenta o si continúa en el banco. Las variables son:\n",
    "* _RowNumber_: Id de fila       \n",
    "* _CustomerId_: Id del cliente      \n",
    "* _Surname_: Apellidos          \n",
    "* _CreditScore_: Puntuación que asigna el banco al cliente    \n",
    "* _Geography_: País del cliente       \n",
    "* _Gender_: Sexo\n",
    "* _Age_: Edad del cliente             \n",
    "* _Tenure_: Antigüedad del cliente en el banco, en años           \n",
    "* _Balance_: Saldo del cliente          \n",
    "* _NumOfProducts_: Nº de productos que el cliente tiene contratado en el banco   \n",
    "* _HasCrCard_: 1 el cliente tiene tarjeta de crédito        \n",
    "* _IsActiveMember_: 1 El cliente es un miembro activo  \n",
    "* _EstimatedSalary_: Salario estimado en dólares  \n",
    "* _Exited_: 0 el cliente no cierra la cuenta, 1 el cliente cierra la cuenta            "
   ]
  },
  {
   "cell_type": "markdown",
   "id": "2a375edc",
   "metadata": {},
   "source": [
    "# 1 PREPRECESADO DE DATOS <a name=\"1\"></a>\n",
    "[Índice](#indice)"
   ]
  },
  {
   "cell_type": "markdown",
   "id": "54ee2a12",
   "metadata": {},
   "source": [
    "## 1.1 Importación de librerías <a name=\"1_1\"></a>\n",
    "[Índice](#indice)"
   ]
  },
  {
   "cell_type": "code",
   "execution_count": 1,
   "id": "b6444d10",
   "metadata": {},
   "outputs": [],
   "source": [
    "import pandas as pd\n",
    "\n",
    "import seaborn as sb\n",
    "import matplotlib.pyplot as plt"
   ]
  },
  {
   "cell_type": "markdown",
   "id": "3f652f48",
   "metadata": {},
   "source": [
    "## 1.2 Carga del dataset <a name=\"1_2\"></a>\n",
    "[Índice](#indice)"
   ]
  },
  {
   "cell_type": "code",
   "execution_count": 2,
   "id": "fe84a458",
   "metadata": {},
   "outputs": [
    {
     "data": {
      "text/html": [
       "<div>\n",
       "<style scoped>\n",
       "    .dataframe tbody tr th:only-of-type {\n",
       "        vertical-align: middle;\n",
       "    }\n",
       "\n",
       "    .dataframe tbody tr th {\n",
       "        vertical-align: top;\n",
       "    }\n",
       "\n",
       "    .dataframe thead th {\n",
       "        text-align: right;\n",
       "    }\n",
       "</style>\n",
       "<table border=\"1\" class=\"dataframe\">\n",
       "  <thead>\n",
       "    <tr style=\"text-align: right;\">\n",
       "      <th></th>\n",
       "      <th>RowNumber</th>\n",
       "      <th>CustomerId</th>\n",
       "      <th>Surname</th>\n",
       "      <th>CreditScore</th>\n",
       "      <th>Geography</th>\n",
       "      <th>Gender</th>\n",
       "      <th>Age</th>\n",
       "      <th>Tenure</th>\n",
       "      <th>Balance</th>\n",
       "      <th>NumOfProducts</th>\n",
       "      <th>HasCrCard</th>\n",
       "      <th>IsActiveMember</th>\n",
       "      <th>EstimatedSalary</th>\n",
       "      <th>Exited</th>\n",
       "    </tr>\n",
       "  </thead>\n",
       "  <tbody>\n",
       "    <tr>\n",
       "      <th>0</th>\n",
       "      <td>1</td>\n",
       "      <td>15634602</td>\n",
       "      <td>Hargrave</td>\n",
       "      <td>619</td>\n",
       "      <td>France</td>\n",
       "      <td>Female</td>\n",
       "      <td>42</td>\n",
       "      <td>2</td>\n",
       "      <td>0.00</td>\n",
       "      <td>1</td>\n",
       "      <td>1</td>\n",
       "      <td>1</td>\n",
       "      <td>101348.88</td>\n",
       "      <td>1</td>\n",
       "    </tr>\n",
       "    <tr>\n",
       "      <th>1</th>\n",
       "      <td>2</td>\n",
       "      <td>15647311</td>\n",
       "      <td>Hill</td>\n",
       "      <td>608</td>\n",
       "      <td>Spain</td>\n",
       "      <td>Female</td>\n",
       "      <td>41</td>\n",
       "      <td>1</td>\n",
       "      <td>83807.86</td>\n",
       "      <td>1</td>\n",
       "      <td>0</td>\n",
       "      <td>1</td>\n",
       "      <td>112542.58</td>\n",
       "      <td>0</td>\n",
       "    </tr>\n",
       "    <tr>\n",
       "      <th>2</th>\n",
       "      <td>3</td>\n",
       "      <td>15619304</td>\n",
       "      <td>Onio</td>\n",
       "      <td>502</td>\n",
       "      <td>France</td>\n",
       "      <td>Female</td>\n",
       "      <td>42</td>\n",
       "      <td>8</td>\n",
       "      <td>159660.80</td>\n",
       "      <td>3</td>\n",
       "      <td>1</td>\n",
       "      <td>0</td>\n",
       "      <td>113931.57</td>\n",
       "      <td>1</td>\n",
       "    </tr>\n",
       "    <tr>\n",
       "      <th>3</th>\n",
       "      <td>4</td>\n",
       "      <td>15701354</td>\n",
       "      <td>Boni</td>\n",
       "      <td>699</td>\n",
       "      <td>France</td>\n",
       "      <td>Female</td>\n",
       "      <td>39</td>\n",
       "      <td>1</td>\n",
       "      <td>0.00</td>\n",
       "      <td>2</td>\n",
       "      <td>0</td>\n",
       "      <td>0</td>\n",
       "      <td>93826.63</td>\n",
       "      <td>0</td>\n",
       "    </tr>\n",
       "    <tr>\n",
       "      <th>4</th>\n",
       "      <td>5</td>\n",
       "      <td>15737888</td>\n",
       "      <td>Mitchell</td>\n",
       "      <td>850</td>\n",
       "      <td>Spain</td>\n",
       "      <td>Female</td>\n",
       "      <td>43</td>\n",
       "      <td>2</td>\n",
       "      <td>125510.82</td>\n",
       "      <td>1</td>\n",
       "      <td>1</td>\n",
       "      <td>1</td>\n",
       "      <td>79084.10</td>\n",
       "      <td>0</td>\n",
       "    </tr>\n",
       "    <tr>\n",
       "      <th>...</th>\n",
       "      <td>...</td>\n",
       "      <td>...</td>\n",
       "      <td>...</td>\n",
       "      <td>...</td>\n",
       "      <td>...</td>\n",
       "      <td>...</td>\n",
       "      <td>...</td>\n",
       "      <td>...</td>\n",
       "      <td>...</td>\n",
       "      <td>...</td>\n",
       "      <td>...</td>\n",
       "      <td>...</td>\n",
       "      <td>...</td>\n",
       "      <td>...</td>\n",
       "    </tr>\n",
       "    <tr>\n",
       "      <th>9995</th>\n",
       "      <td>9996</td>\n",
       "      <td>15606229</td>\n",
       "      <td>Obijiaku</td>\n",
       "      <td>771</td>\n",
       "      <td>France</td>\n",
       "      <td>Male</td>\n",
       "      <td>39</td>\n",
       "      <td>5</td>\n",
       "      <td>0.00</td>\n",
       "      <td>2</td>\n",
       "      <td>1</td>\n",
       "      <td>0</td>\n",
       "      <td>96270.64</td>\n",
       "      <td>0</td>\n",
       "    </tr>\n",
       "    <tr>\n",
       "      <th>9996</th>\n",
       "      <td>9997</td>\n",
       "      <td>15569892</td>\n",
       "      <td>Johnstone</td>\n",
       "      <td>516</td>\n",
       "      <td>France</td>\n",
       "      <td>Male</td>\n",
       "      <td>35</td>\n",
       "      <td>10</td>\n",
       "      <td>57369.61</td>\n",
       "      <td>1</td>\n",
       "      <td>1</td>\n",
       "      <td>1</td>\n",
       "      <td>101699.77</td>\n",
       "      <td>0</td>\n",
       "    </tr>\n",
       "    <tr>\n",
       "      <th>9997</th>\n",
       "      <td>9998</td>\n",
       "      <td>15584532</td>\n",
       "      <td>Liu</td>\n",
       "      <td>709</td>\n",
       "      <td>France</td>\n",
       "      <td>Female</td>\n",
       "      <td>36</td>\n",
       "      <td>7</td>\n",
       "      <td>0.00</td>\n",
       "      <td>1</td>\n",
       "      <td>0</td>\n",
       "      <td>1</td>\n",
       "      <td>42085.58</td>\n",
       "      <td>1</td>\n",
       "    </tr>\n",
       "    <tr>\n",
       "      <th>9998</th>\n",
       "      <td>9999</td>\n",
       "      <td>15682355</td>\n",
       "      <td>Sabbatini</td>\n",
       "      <td>772</td>\n",
       "      <td>Germany</td>\n",
       "      <td>Male</td>\n",
       "      <td>42</td>\n",
       "      <td>3</td>\n",
       "      <td>75075.31</td>\n",
       "      <td>2</td>\n",
       "      <td>1</td>\n",
       "      <td>0</td>\n",
       "      <td>92888.52</td>\n",
       "      <td>1</td>\n",
       "    </tr>\n",
       "    <tr>\n",
       "      <th>9999</th>\n",
       "      <td>10000</td>\n",
       "      <td>15628319</td>\n",
       "      <td>Walker</td>\n",
       "      <td>792</td>\n",
       "      <td>France</td>\n",
       "      <td>Female</td>\n",
       "      <td>28</td>\n",
       "      <td>4</td>\n",
       "      <td>130142.79</td>\n",
       "      <td>1</td>\n",
       "      <td>1</td>\n",
       "      <td>0</td>\n",
       "      <td>38190.78</td>\n",
       "      <td>0</td>\n",
       "    </tr>\n",
       "  </tbody>\n",
       "</table>\n",
       "<p>10000 rows × 14 columns</p>\n",
       "</div>"
      ],
      "text/plain": [
       "      RowNumber  CustomerId    Surname  CreditScore Geography  Gender  Age  \\\n",
       "0             1    15634602   Hargrave          619    France  Female   42   \n",
       "1             2    15647311       Hill          608     Spain  Female   41   \n",
       "2             3    15619304       Onio          502    France  Female   42   \n",
       "3             4    15701354       Boni          699    France  Female   39   \n",
       "4             5    15737888   Mitchell          850     Spain  Female   43   \n",
       "...         ...         ...        ...          ...       ...     ...  ...   \n",
       "9995       9996    15606229   Obijiaku          771    France    Male   39   \n",
       "9996       9997    15569892  Johnstone          516    France    Male   35   \n",
       "9997       9998    15584532        Liu          709    France  Female   36   \n",
       "9998       9999    15682355  Sabbatini          772   Germany    Male   42   \n",
       "9999      10000    15628319     Walker          792    France  Female   28   \n",
       "\n",
       "      Tenure    Balance  NumOfProducts  HasCrCard  IsActiveMember  \\\n",
       "0          2       0.00              1          1               1   \n",
       "1          1   83807.86              1          0               1   \n",
       "2          8  159660.80              3          1               0   \n",
       "3          1       0.00              2          0               0   \n",
       "4          2  125510.82              1          1               1   \n",
       "...      ...        ...            ...        ...             ...   \n",
       "9995       5       0.00              2          1               0   \n",
       "9996      10   57369.61              1          1               1   \n",
       "9997       7       0.00              1          0               1   \n",
       "9998       3   75075.31              2          1               0   \n",
       "9999       4  130142.79              1          1               0   \n",
       "\n",
       "      EstimatedSalary  Exited  \n",
       "0           101348.88       1  \n",
       "1           112542.58       0  \n",
       "2           113931.57       1  \n",
       "3            93826.63       0  \n",
       "4            79084.10       0  \n",
       "...               ...     ...  \n",
       "9995         96270.64       0  \n",
       "9996        101699.77       0  \n",
       "9997         42085.58       1  \n",
       "9998         92888.52       1  \n",
       "9999         38190.78       0  \n",
       "\n",
       "[10000 rows x 14 columns]"
      ]
     },
     "execution_count": 2,
     "metadata": {},
     "output_type": "execute_result"
    }
   ],
   "source": [
    "df = pd.read_csv('Churn_Modelling.csv')\n",
    "df"
   ]
  },
  {
   "cell_type": "markdown",
   "id": "36c96fc5",
   "metadata": {},
   "source": [
    "# 2 PREPROCESADO DE DATOS <a name=\"2\"></a>\n",
    "[Índice](#indice)"
   ]
  },
  {
   "cell_type": "code",
   "execution_count": 3,
   "id": "f518b836",
   "metadata": {},
   "outputs": [
    {
     "data": {
      "text/plain": [
       "(10000, 14)"
      ]
     },
     "execution_count": 3,
     "metadata": {},
     "output_type": "execute_result"
    }
   ],
   "source": [
    "df.shape"
   ]
  },
  {
   "cell_type": "code",
   "execution_count": 4,
   "id": "74de0147",
   "metadata": {},
   "outputs": [
    {
     "name": "stdout",
     "output_type": "stream",
     "text": [
      "<class 'pandas.core.frame.DataFrame'>\n",
      "RangeIndex: 10000 entries, 0 to 9999\n",
      "Data columns (total 14 columns):\n",
      " #   Column           Non-Null Count  Dtype  \n",
      "---  ------           --------------  -----  \n",
      " 0   RowNumber        10000 non-null  int64  \n",
      " 1   CustomerId       10000 non-null  int64  \n",
      " 2   Surname          10000 non-null  object \n",
      " 3   CreditScore      10000 non-null  int64  \n",
      " 4   Geography        10000 non-null  object \n",
      " 5   Gender           10000 non-null  object \n",
      " 6   Age              10000 non-null  int64  \n",
      " 7   Tenure           10000 non-null  int64  \n",
      " 8   Balance          10000 non-null  float64\n",
      " 9   NumOfProducts    10000 non-null  int64  \n",
      " 10  HasCrCard        10000 non-null  int64  \n",
      " 11  IsActiveMember   10000 non-null  int64  \n",
      " 12  EstimatedSalary  10000 non-null  float64\n",
      " 13  Exited           10000 non-null  int64  \n",
      "dtypes: float64(2), int64(9), object(3)\n",
      "memory usage: 1.1+ MB\n"
     ]
    }
   ],
   "source": [
    "df.info()"
   ]
  },
  {
   "cell_type": "markdown",
   "id": "4aee77ad",
   "metadata": {},
   "source": [
    "## 2.1 Estadísticas descriptivas <a name=\"2_1\"></a>\n",
    "[Índice](#indice)"
   ]
  },
  {
   "cell_type": "code",
   "execution_count": null,
   "id": "8fb89a95",
   "metadata": {},
   "outputs": [],
   "source": []
  },
  {
   "cell_type": "markdown",
   "id": "f39a75f6",
   "metadata": {},
   "source": [
    "# 2 DISEÑO DE CARACTERÍSTICAS <a name=\"3\"></a>\n",
    "[Índice](#indice)"
   ]
  },
  {
   "cell_type": "markdown",
   "id": "3db9f719",
   "metadata": {},
   "source": [
    "## 3.1 Tratamiento de nulos <a name=\"3_1\"></a>\n",
    "[Índice](#indice)"
   ]
  },
  {
   "cell_type": "markdown",
   "id": "59ba2aad",
   "metadata": {},
   "source": [
    "## 3.2 Transformación de características <a name=\"3_2\"></a>\n",
    "[Índice](#indice)"
   ]
  },
  {
   "cell_type": "markdown",
   "id": "a4013b94",
   "metadata": {},
   "source": [
    "## 3.3 Selección de características relevantes <a name=\"3_3\"></a>\n",
    "[Índice](#indice)"
   ]
  },
  {
   "cell_type": "markdown",
   "id": "ee2f1242",
   "metadata": {},
   "source": [
    "## 3.4 Tratamiento de outliers <a name=\"3_4\"></a>\n",
    "[Índice](#indice)"
   ]
  },
  {
   "cell_type": "markdown",
   "id": "3c4bc3f3",
   "metadata": {},
   "source": [
    "## 3.5 Tratamiento de Correlación <a name=\"3_5\"></a>\n",
    "[Índice](#indice)"
   ]
  },
  {
   "cell_type": "markdown",
   "id": "a109a967",
   "metadata": {},
   "source": [
    "## 3.6 Normalización <a name=\"3_6\"></a>\n",
    "[Índice](#indice)"
   ]
  },
  {
   "cell_type": "markdown",
   "id": "51a36aa2",
   "metadata": {},
   "source": [
    "# 4 Regresión Logística todas las variables con el DF sin tratar <a name=\"4\"></a>\n",
    "[Índice](#indice)"
   ]
  },
  {
   "cell_type": "markdown",
   "id": "723b6d8b",
   "metadata": {},
   "source": [
    "# 5 Regresión logística todas las variables con el DF sin outliers, sin correlaciones y normalizado <a name=\"5\"></a>\n",
    "[Índice](#indice)"
   ]
  },
  {
   "cell_type": "markdown",
   "id": "bb90d998",
   "metadata": {},
   "source": [
    "# 6 Conclusión final <a name=\"6\"></a>\n",
    "[Índice](#indice)"
   ]
  }
 ],
 "metadata": {
  "kernelspec": {
   "display_name": "Python 3 (ipykernel)",
   "language": "python",
   "name": "python3"
  },
  "language_info": {
   "codemirror_mode": {
    "name": "ipython",
    "version": 3
   },
   "file_extension": ".py",
   "mimetype": "text/x-python",
   "name": "python",
   "nbconvert_exporter": "python",
   "pygments_lexer": "ipython3",
   "version": "3.9.12"
  }
 },
 "nbformat": 4,
 "nbformat_minor": 5
}
