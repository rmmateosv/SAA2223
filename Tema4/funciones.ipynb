{
 "cells": [
  {
   "cell_type": "code",
   "execution_count": 3,
   "id": "ec3295aa",
   "metadata": {},
   "outputs": [],
   "source": [
    "import pandas as pd\n",
    "\n",
    "def quitarOutliers(dfNum):\n",
    "    for c in dfNum.columns:\n",
    "        Q1 = dfNum[c].quantile(0.25)\n",
    "        Q3 = dfNum[c].quantile(0.75)\n",
    "        IQR = Q3 - Q1\n",
    "        maxi = Q3 + 1.5*IQR\n",
    "        mini = Q1- 1.5*IQR\n",
    "        dfNum.loc[dfNum[c]>maxi,c]=maxi\n",
    "        dfNum.loc[dfNum[c]<mini,c]=mini\n",
    "    return dfNum"
   ]
  }
 ],
 "metadata": {
  "kernelspec": {
   "display_name": "Python 3 (ipykernel)",
   "language": "python",
   "name": "python3"
  },
  "language_info": {
   "codemirror_mode": {
    "name": "ipython",
    "version": 3
   },
   "file_extension": ".py",
   "mimetype": "text/x-python",
   "name": "python",
   "nbconvert_exporter": "python",
   "pygments_lexer": "ipython3",
   "version": "3.9.12"
  }
 },
 "nbformat": 4,
 "nbformat_minor": 5
}
