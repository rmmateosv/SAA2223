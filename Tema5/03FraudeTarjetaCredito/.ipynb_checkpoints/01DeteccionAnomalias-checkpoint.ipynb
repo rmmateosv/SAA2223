{
 "cells": [
  {
   "cell_type": "markdown",
   "id": "5faff85f",
   "metadata": {},
   "source": [
    "# Modelo de Aprendizaje no Superviasado\n",
    "# Modelos de detección de anomalías\n",
    "\n",
    "## Dataset: Credit Card Fraud Detection\n",
    "## Objetivo: Entrenar un modelo que detecte si una operación es fraudulenta\n",
    "## Fuente: https://www.kaggle.com/datasets/mlg-ulb/creditcardfraud\n",
    "Índice<a name=\"indice\"></a>\n",
    "* [1 Prepocesado de datos](#1)\n",
    "    * [1.1 Importación de librerías](#1_1)\n",
    "    * [1.2 Carga del Dataset](#1_2)\n",
    "* [2 Análisis Exploratorio de datos](#2)\n",
    "    * [2.1 Estadísitcas descriptivas](#2_1)\n",
    "* [3 Diseño de características](#3)\n",
    "    * [3.1 Tratamiento de datos nulos](#3_1)\n",
    "    * [3.2 Transformación de características](#3_2)\n",
    "    * [3.3 Selección de características relevante](#3_3)\n",
    "    * [3.4 Tratamiento de outliers](#3_4)\n",
    "    * [3.5 Tratamiento de correlación](#3_5)\n",
    "    * [3.6 Normalización](#3_6)\n",
    "* [4 Local Outlier Factor (LOF)](#4) \n",
    "* [5 Isolation Tree](#5)\n"
   ]
  },
  {
   "cell_type": "markdown",
   "id": "ef27f8ec",
   "metadata": {},
   "source": [
    "### Descripción de la fuente\n",
    "Cuenta con un total de 30 variables predictoras X y una variable continua a predecir Y. El número total de muestras es de 284.807 transacciones.\n",
    "El dataset contiene transacciones de tarjetas realizadas en septiembre de 2013 por entidades europeas. Estas transacciones ocurrieron en dos días, produciéndose un total de 492 transacciones fraudulentas de un total de 284.807. \n",
    "\n",
    "Todas las variables en este dataset son numericas. Dos de ellas son 'Time' y 'Amount', las cuales son variables originales. El resto, son resultado de una transformación PCA, siendo V1-V28 las componentes principales. Por motivos de confidencialidad no se proporcionan las variables originales ni más información sobre los datos.\n",
    "\n",
    "* _Time_: segundos entre cada transacción y la primera transacción del dataset\n",
    "* _Variables 'V1-V28'_: componentes principales de una transformación de variables utilizando PCA\n",
    "* _Amount_: unidades monetarias de la transacción\n",
    "* _Class_: Variable objetivo, indica si esa transacción es fraudulenta (1) o no es fraudulenta (0)"
   ]
  },
  {
   "cell_type": "markdown",
   "id": "2a375edc",
   "metadata": {},
   "source": [
    "# 1 PREPRECESADO DE DATOS <a name=\"1\"></a>\n",
    "[Índice](#indice)"
   ]
  },
  {
   "cell_type": "markdown",
   "id": "54ee2a12",
   "metadata": {},
   "source": [
    "## 1.1 Importación de librerías <a name=\"1_1\"></a>\n",
    "[Índice](#indice)"
   ]
  },
  {
   "cell_type": "code",
   "execution_count": 1,
   "id": "478fb5a4",
   "metadata": {},
   "outputs": [],
   "source": [
    "import pandas as pd\n",
    "import numpy as np\n",
    "\n",
    "import seaborn as sns;\n",
    "import matplotlib.pyplot as plt\n",
    "\n",
    "\n",
    "\n"
   ]
  },
  {
   "cell_type": "markdown",
   "id": "3f652f48",
   "metadata": {},
   "source": [
    "## 1.2 Carga del dataset <a name=\"1_2\"></a>\n",
    "[Índice](#indice)"
   ]
  },
  {
   "cell_type": "code",
   "execution_count": null,
   "id": "87103e6c",
   "metadata": {},
   "outputs": [],
   "source": [
    "df = pd.read_csv('creditcard.csv')\n",
    "df"
   ]
  },
  {
   "cell_type": "code",
   "execution_count": null,
   "id": "b96dbdc0",
   "metadata": {},
   "outputs": [],
   "source": [
    "df.shape"
   ]
  },
  {
   "cell_type": "code",
   "execution_count": null,
   "id": "c4664f7c",
   "metadata": {},
   "outputs": [],
   "source": [
    "# Balanceo\n",
    "df['Class'].value_counts()"
   ]
  },
  {
   "cell_type": "code",
   "execution_count": null,
   "id": "1944d96b",
   "metadata": {},
   "outputs": [],
   "source": [
    "# Balanceo\n",
    "df['Class'].value_counts()/len(df)"
   ]
  },
  {
   "cell_type": "markdown",
   "id": "36c96fc5",
   "metadata": {},
   "source": [
    "# 2 PREPRECESADO DE DATOS <a name=\"2\"></a>\n",
    "[Índice](#indice)"
   ]
  },
  {
   "cell_type": "markdown",
   "id": "4aee77ad",
   "metadata": {},
   "source": [
    "## 2.1 Estadísticas descriptivas <a name=\"2_1\"></a>\n",
    "[Índice](#indice)"
   ]
  },
  {
   "cell_type": "code",
   "execution_count": null,
   "id": "ffdb262e",
   "metadata": {},
   "outputs": [],
   "source": [
    "df.describe()"
   ]
  },
  {
   "cell_type": "markdown",
   "id": "f39a75f6",
   "metadata": {},
   "source": [
    "# 3 DISEÑO DE CARACTERÍSTICAS <a name=\"3\"></a>\n",
    "[Índice](#indice)"
   ]
  },
  {
   "cell_type": "markdown",
   "id": "3db9f719",
   "metadata": {},
   "source": [
    "## 3.1 Tratamiento de nulos <a name=\"3_1\"></a>\n",
    "[Índice](#indice)"
   ]
  },
  {
   "cell_type": "code",
   "execution_count": null,
   "id": "be4d6e57",
   "metadata": {},
   "outputs": [],
   "source": [
    "df.isnull().sum()"
   ]
  },
  {
   "cell_type": "code",
   "execution_count": null,
   "id": "0ea1a1fb",
   "metadata": {},
   "outputs": [],
   "source": [
    "df.isna().sum()"
   ]
  },
  {
   "cell_type": "code",
   "execution_count": null,
   "id": "126c8eee",
   "metadata": {},
   "outputs": [],
   "source": [
    "df.isin(['','?',' ']).sum()"
   ]
  },
  {
   "cell_type": "markdown",
   "id": "59ba2aad",
   "metadata": {},
   "source": [
    "## 3.2 Transformación de características <a name=\"3_2\"></a>\n",
    "[Índice](#indice)"
   ]
  },
  {
   "cell_type": "code",
   "execution_count": null,
   "id": "dbf573a1",
   "metadata": {},
   "outputs": [],
   "source": [
    "# Transformaciones de tipo"
   ]
  },
  {
   "cell_type": "code",
   "execution_count": null,
   "id": "3c6ac3e1",
   "metadata": {},
   "outputs": [],
   "source": [
    "# No es necesario hacer label encoding"
   ]
  },
  {
   "cell_type": "code",
   "execution_count": null,
   "id": "a60cd029",
   "metadata": {},
   "outputs": [],
   "source": [
    "# One hot encoding"
   ]
  },
  {
   "cell_type": "code",
   "execution_count": null,
   "id": "b729a1ab",
   "metadata": {},
   "outputs": [],
   "source": [
    "# Seleccionamos las columnas generadas con OHE y las cambiamos a categóricas"
   ]
  },
  {
   "cell_type": "markdown",
   "id": "a4013b94",
   "metadata": {},
   "source": [
    "## 3.3 Selección de características relevantes <a name=\"3_3\"></a>\n",
    "[Índice](#indice)"
   ]
  },
  {
   "cell_type": "code",
   "execution_count": null,
   "id": "a8066aff",
   "metadata": {},
   "outputs": [],
   "source": [
    "# Eliminar irrelevantes\n",
    "df.drop(['Time'],axis=1,inplace=True)"
   ]
  },
  {
   "cell_type": "markdown",
   "id": "ee2f1242",
   "metadata": {},
   "source": [
    "## 3.4 Tratamiento de outliers <a name=\"3_4\"></a>\n",
    "[Índice](#indice)"
   ]
  },
  {
   "cell_type": "code",
   "execution_count": null,
   "id": "09a025ee",
   "metadata": {},
   "outputs": [],
   "source": [
    "# Ver en una única gráfica después de normalizar\n",
    "# Tratamiento de outliers\n",
    "plt.subplots(sharex=False, sharey=False,figsize=(20,15))\n",
    "for i in range(len(df.columns)):\n",
    "    ax = plt.subplot(1,len(df.columns),i+1)\n",
    "    sns.boxplot(data=df.iloc[:,i],ax=ax)\n",
    "    ax.set_title(df.columns[i])"
   ]
  },
  {
   "cell_type": "markdown",
   "id": "3c4bc3f3",
   "metadata": {},
   "source": [
    "## 3.5 Tratamiento de Correlación <a name=\"3_5\"></a>\n",
    "[Índice](#indice)"
   ]
  },
  {
   "cell_type": "code",
   "execution_count": null,
   "id": "9129c1c3",
   "metadata": {
    "scrolled": true
   },
   "outputs": [],
   "source": [
    "# Tratamiento de correlación\n",
    "sns.pairplot(data=df,hue='Class',palette='bright')"
   ]
  },
  {
   "cell_type": "code",
   "execution_count": null,
   "id": "b70275ff",
   "metadata": {},
   "outputs": [],
   "source": [
    "sns.heatmap(df.corr(),cmap='coolwarm',annot=True)"
   ]
  },
  {
   "cell_type": "markdown",
   "id": "a109a967",
   "metadata": {},
   "source": [
    "## 3.6 Normalización <a name=\"3_6\"></a>\n",
    "[Índice](#indice)"
   ]
  },
  {
   "cell_type": "code",
   "execution_count": null,
   "id": "0932138e",
   "metadata": {},
   "outputs": [],
   "source": [
    "# Normalización\n",
    "from scipy import stats\n",
    "# Mostrar si las variables siguen una distribución normal según saphiro test\n",
    "corte = 0.05\n",
    "for c in df:    \n",
    "    #Hacemos el saphiroTest\n",
    "    stat,pvalor=stats.shapiro(df[c])\n",
    "    #print(f\"Variable:{c}\\tEstadístico:{stat}\\tP-valor:{pvalor}\")\n",
    "    if(pvalor>corte):            \n",
    "        print(f\"Variable {c} provine distribución normal p-valor>0.05\\t:{pvalor}\")\n",
    "    else:            \n",
    "        print(f\"Variable {c} no proviene distribución  p-valor<=0.05\\t:{pvalor}\")"
   ]
  },
  {
   "cell_type": "code",
   "execution_count": null,
   "id": "92e94469",
   "metadata": {},
   "outputs": [],
   "source": [
    "from sklearn.preprocessing import StandardScaler\n",
    "sc = StandardScaler()\n",
    "dfNorm = sc.fit_transform(df)\n",
    "dfNorm= pd.DataFrame(dfNorm,columns=df.columns)\n",
    "dfNorm"
   ]
  },
  {
   "cell_type": "markdown",
   "id": "7a3e7ee2",
   "metadata": {},
   "source": [
    "# 4 Local Outlier Factor (LOF) <a name=\"4\"></a>\n",
    "[Índice](#indice)"
   ]
  },
  {
   "cell_type": "markdown",
   "id": "e483871e",
   "metadata": {},
   "source": [
    "# 5 Isolation Tree <a name=\"5\"></a>\n",
    "[Índice](#indice)"
   ]
  }
 ],
 "metadata": {
  "kernelspec": {
   "display_name": "Python 3 (ipykernel)",
   "language": "python",
   "name": "python3"
  },
  "language_info": {
   "codemirror_mode": {
    "name": "ipython",
    "version": 3
   },
   "file_extension": ".py",
   "mimetype": "text/x-python",
   "name": "python",
   "nbconvert_exporter": "python",
   "pygments_lexer": "ipython3",
   "version": "3.9.12"
  }
 },
 "nbformat": 4,
 "nbformat_minor": 5
}
