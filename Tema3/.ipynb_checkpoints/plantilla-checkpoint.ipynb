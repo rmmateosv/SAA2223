{
 "cells": [
  {
   "cell_type": "markdown",
   "id": "de754be1",
   "metadata": {},
   "source": [
    "## Índice<a name=\"indice\"></a>\n",
    "* [1 Prepocesado de datos](#1)\n",
    "    * [1.1 Importación de librerías](#1_1)\n",
    "    * [1.2 Carga del Dataset](#1_2)\n",
    "* [2 Análisis Exploratorio de datos](#2)\n",
    "    * [2.1 Estadísitcas descriptivas](#2_1)\n",
    "    * [2.2 Detección de Outliers](#2_2)\n",
    "    * [2.3 Detección de correlaciones](#2_3)\n",
    "* [3 Diseño de características](#3)\n",
    "    * [3.1 Tratamiento de datos nulos](#3_1)\n",
    "    * [3.2 Transformación de características](#3_2)\n",
    "    * [3.3 Selección de características relevante](#3_3)\n",
    "    * [3.4 Tratamiento de outliers](#3_4)\n",
    "    * [3.5 Tratamiento de correlación](#3_5)\n",
    "    * [3.6 Normalización](#3_6)\n"
   ]
  },
  {
   "cell_type": "markdown",
   "id": "7c6e0ff2",
   "metadata": {},
   "source": [
    "# 1 Prepocesado de datos<a name=\"1\"></a>\n",
    "[Índice](#indice)"
   ]
  },
  {
   "cell_type": "markdown",
   "id": "1335932f",
   "metadata": {},
   "source": [
    "## 1.1 Importación de librerías<a name=\"1_1\"></a>\n",
    "[Índice](#indice)"
   ]
  },
  {
   "cell_type": "markdown",
   "id": "fe8de546",
   "metadata": {},
   "source": [
    "## 1.2 Carga del dataset<a name=\"1_2\"></a>\n",
    "[Índice](#indice)"
   ]
  },
  {
   "cell_type": "markdown",
   "id": "5b44e355",
   "metadata": {},
   "source": [
    "# 2 Análisis Exploratorio de datos<a name=\"2\"></a>\n",
    "[Índice](#indice)"
   ]
  },
  {
   "cell_type": "markdown",
   "id": "9a59031f",
   "metadata": {},
   "source": [
    "## 2.1Estadísticas descriptivas<a name=\"2_1\"></a>\n",
    "[Índice](#indice)"
   ]
  },
  {
   "cell_type": "markdown",
   "id": "094b11d9",
   "metadata": {},
   "source": [
    "## 2.2. Detección de outliers<a name=\"2_2\"></a>\n",
    "[Índice](#indice)"
   ]
  },
  {
   "cell_type": "markdown",
   "id": "0e3b684c",
   "metadata": {},
   "source": [
    "## 2.3 Detección de correlaciones<a name=\"2_3\"></a>\n",
    "[Índice](#indice)"
   ]
  },
  {
   "cell_type": "markdown",
   "id": "14ba3fe7",
   "metadata": {},
   "source": [
    "# 3 Diseño de características<a name=\"3\"></a>\n",
    "[Índice](#indice)"
   ]
  },
  {
   "cell_type": "markdown",
   "id": "1821918b",
   "metadata": {},
   "source": [
    "## 3.1 Tratamiento de datos nulos<a name=\"3_1\"></a>\n",
    "[Índice](#indice)"
   ]
  },
  {
   "cell_type": "markdown",
   "id": "d6274683",
   "metadata": {},
   "source": [
    "## 3.2 Transformación de características<a name=\"3_2\"></a>\n",
    "[Índice](#indice)"
   ]
  },
  {
   "cell_type": "markdown",
   "id": "a155959a",
   "metadata": {},
   "source": [
    "## 3.3 Selección de características relevante<a name=\"3_3\"></a>\n",
    "[Índice](#indice)"
   ]
  },
  {
   "cell_type": "markdown",
   "id": "85bbce77",
   "metadata": {},
   "source": [
    "## 3.4 Tratamiento de outliers<a name=\"3_4\"></a>\n",
    "[Índice](#indice)"
   ]
  },
  {
   "cell_type": "markdown",
   "id": "e24fc1d6",
   "metadata": {},
   "source": [
    "## 3.5 Tratamiento de correlación<a name=\"3_5\"></a>\n",
    "[Índice](#indice)"
   ]
  },
  {
   "cell_type": "markdown",
   "id": "4de242f7",
   "metadata": {},
   "source": [
    "## 3.6 Normalización<a name=\"3_6\"></a>\n",
    "[Índice](#indice)"
   ]
  }
 ],
 "metadata": {
  "kernelspec": {
   "display_name": "Python 3 (ipykernel)",
   "language": "python",
   "name": "python3"
  },
  "language_info": {
   "codemirror_mode": {
    "name": "ipython",
    "version": 3
   },
   "file_extension": ".py",
   "mimetype": "text/x-python",
   "name": "python",
   "nbconvert_exporter": "python",
   "pygments_lexer": "ipython3",
   "version": "3.9.12"
  }
 },
 "nbformat": 4,
 "nbformat_minor": 5
}
